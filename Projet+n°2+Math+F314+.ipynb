{
 "cells": [
  {
   "cell_type": "markdown",
   "metadata": {},
   "source": [
    " # MATH F314 Projet n°2: Equation d'écoulement dans un milieux poreux\n",
    " ### Broissin Jérémy, Houyoux Guillaume\n",
    " \n",
    " ## I.Introduction\n",
    " \n",
    "Dans ce second projet, nous allons déterminer la vitesse d'écoulement incompressible d'un milieu poreux. Cette vitesse suit l'équation (ou loi) de Darcy: $$\\overrightarrow{u}= \\frac{-K}{\\mu}\\bigg(\\overrightarrow{\\nabla}{P} - \\rho \\overrightarrow{g}\\bigg)$$\n",
    " Où $\\overrightarrow{g}$ est dirigé selon l'axe z, K et $\\mu$ sont des constantes, respectivement pour la perméabilité et la viscosité du milieu. \n",
    " De plus, si un soluté est présent, la vitesse $\\overrightarrow{u}$ suit l'équation d'advection-diffusion: $$\\Phi\\frac{\\partial C}{\\partial t}= -\\overrightarrow{u}\\overrightarrow{\\nabla}{C} + \\Phi D \\overrightarrow{\\nabla}^2{C}$$\n",
    " Avec cela, et après quelques manipulations, on arrive au système d'équations suivant:\n",
    " $$\\bigg(\\frac{\\partial ^2}{\\partial z^2} - k^2\\bigg)w(z,t) = -k^2c(z,t)$$\n",
    " $$\\frac{\\partial c(z,t)}{\\partial t} -\\frac{1}{R_a}\\bigg(\\frac{\\partial ^2}{\\partial z^2} - k^2\\bigg)c(z,t) = -\\frac{\\partial C_0}{\\partial z}w(z,t)$$\n",
    " Avec $\\frac{\\partial C_0}{\\partial z} = -\\frac{2}{\\sqrt{\\pi}}\\sqrt{\\frac{R_a}{4 t}}e^{-\\big(z\\sqrt{\\frac{R_a}{4 t}}\\big)^2} $\n",
    " \n",
    "Le but étant de résoudre ce sytème d'équation de manière purement théorique et analytique dans un premier temps, puis de manière numérique. \n",
    " \n",
    " ## II.Résolution analytique\n",
    " \n",
    " **• Résolution de la question n°1:** \n",
    " \n",
    " Posons la variable $\\xi= z\\sqrt{\\frac{R_a}{4t}}$, il nous faut maintenant réécrire le système d'équations ci-dessus en terme des variables $\\xi$ et $t$. \n",
    " \n",
    " Calculons d'abord $\\frac{\\partial f(z,t)}{\\partial z}$ puis $\\frac{\\partial ^2 f(z,t)}{\\partial z^2}$: \n",
    " $$\\frac{\\partial f(z,t)}{\\partial z}= \\frac{\\partial f(\\xi,t)}{\\partial \\xi} \\frac{\\partial \\xi}{\\partial z} = \\sqrt{\\frac{R_a}{4t}} \\frac{\\partial f(\\xi,t)}{\\partial \\xi}$$\n",
    " $$\\frac{\\partial ^2 f(z,t)}{\\partial z^2} = \\frac{R_a}{4t} \\frac{\\partial ^2 f(\\xi,t)}{\\partial \\xi ^2}$$\n",
    " \n",
    " Notre première équation devient alors:\n",
    " $$\\bigg(\\frac{R_a}{4t}\\frac{\\partial ^2}{\\partial \\xi ^2} -k^2\\bigg)w(\\xi,t) = -k^2 c(\\xi,t) (1)$$\n",
    " \n",
    " Il reste encore à calculer $\\frac{\\partial f(z,t)}{\\partial t}$ :\n",
    " $$\\frac{\\partial f(z,t)}{\\partial t} = \\frac{\\partial f(\\xi,t)}{\\partial \\xi}\\frac{\\partial \\xi}{\\partial t} + \\frac{\\partial f(\\xi,t)}{\\partial t} = \\sqrt{\\frac{R_a}{4t}} \\frac{\\partial f(\\xi,t)}{\\partial \\xi} + \\frac{\\partial f(\\xi,t)}{\\partial t} $$\n",
    " \n",
    " La seconde équation s'écrit alors:\n",
    " $$\\frac{\\partial c(\\xi,t)}{\\partial t} -\\frac{1}{t} \\bigg(\\frac{1}{4}\\frac{\\partial ^2}{\\partial \\xi ^2} - \\frac{\\xi}{2}\\frac{\\partial}{\\partial \\xi} - \\frac{k^2 t}{R_a}\\bigg) c(\\xi,t) = \\sqrt{\\frac{R_a}{\\pi t}}e^{-\\xi ^2}w(\\xi,t) (2)$$\n",
    " \n",
    " *Résumé:*\n",
    " On a réexprimé notre système d'équations initial en terme des nouvelles variables. On utilisera le nouveau système, déféni par (1) et (2), pour résoudre de manière analytique et numérique le problème. \n",
    " \n",
    " **• Résolution de la question n°2:**\n",
    " \n",
    " Pour créer les opérateurs, nous utiliserons le lien suivant :https://en.wikipedia.org/wiki/Finite_difference_coefficient?fbclid=IwAR3ZIxsqk_B6J76bNSUibbln4wJ4ygC6oty4cNNWHE7oxa6VKwIhzbTRLfc\n",
    " \n",
    " Afin de trouver $M_{ij}$ et $L_{ij}$, nous allons d'abord calculer les matrices correspondants à $\\frac{\\partial}{\\partial \\xi}$ et à $\\frac{\\partial ^2}{\\partial \\xi ^2}$.\n",
    " \n",
    " Si on discrétise $\\xi$ comme $\\xi_m = m\\Delta$ avec $m = 0, 1, ... , 100$, on peut alors approximer grâce à un développement de Taylor les dérivées premières et secondes agissant sur une fonction discrétisée $u_m(\\xi_m,t)$.\n",
    " \n",
    " Regardons d'abord pour $\\frac{\\partial ^2}{\\partial \\xi ^2}$. Si on développe $\\frac{\\partial ^2}{\\partial \\xi ^2}u_{i}$ avec Taylor, on a: $$\\frac{\\partial ^2}{\\partial \\xi ^2}u_{i} =\\frac{1}{\\Delta ^2}\\big(u_{i-1} - 2u_i + u_{i+1}\\big)$$\n",
    " Ceci nous donne la matrice de taille $m \\times m$ suivante: \n",
    " $$ \\frac{1}{\\Delta ^2}\\begin{pmatrix} \n",
    "-2 & 1 & 0 & \\cdots & \\cdots & \\cdots & 0 \\\\\n",
    "1 & -2 & 1 & 0 & \\cdots & \\cdots & \\cdots \\\\\n",
    "0 & 1 & -2 & 1 & 0 &\\cdots & \\cdots \\\\\n",
    "\\vdots & \\ddots & 1 & -2 & 1 & \\ddots & \\vdots \\\\\n",
    "\\vdots & \\ddots & \\ddots & \\ddots & \\ddots & \\ddots & \\vdots \\\\\n",
    "\\vdots & \\ddots & \\ddots & 0 & 1 & -2 & 1 \\\\\n",
    "0 & \\cdots & \\cdots & \\cdots & 0 & 1 & -2\n",
    "\\end{pmatrix}$$\n",
    "\n",
    "Calculons maintenant le développement de Taylor de $\\frac{\\partial}{\\partial \\xi}u_i$, on obtient: $$\\frac{\\partial}{\\partial \\xi}u_i = \\frac{1}{2\\Delta}\\bigg(\\frac{-1}{2}u_{i-1} + \\frac{1}{2}u_{i+1}\\bigg)$$\n",
    "On a donc une nouvelle matrice de taille $m \\times m$: \n",
    "$$ \\frac{1}{2\\Delta }\\begin{pmatrix} \n",
    "0 & \\frac{1}{2} & 0 & \\cdots & \\cdots & \\cdots & 0 \\\\\n",
    "\\frac{-1}{2} & 0 & \\frac{1}{2} & 0 & \\cdots & \\cdots & \\cdots \\\\\n",
    "0 & \\frac{-1}{2} & 0 & \\frac{1}{2} & 0 &\\cdots & \\cdots \\\\\n",
    "\\vdots & \\ddots & \\frac{-1}{2} & 0 & \\frac{1}{2} & \\ddots & \\vdots \\\\\n",
    "\\vdots & \\ddots & \\ddots & \\ddots & \\ddots & \\ddots & \\vdots \\\\\n",
    "\\vdots & \\ddots & \\ddots & 0 & \\frac{-1}{2} & 0 & \\frac{1}{2} \\\\\n",
    "0 & \\cdots & \\cdots & \\cdots & 0 & \\frac{-1}{2} & 0\n",
    "\\end{pmatrix}$$\n",
    "\n",
    "Nous voulons calculer $L_{ij}$ et $M_{ij}$ définis comme: \n",
    "$$ L_{ij} =  \\frac{R_a}{4t} \\bigg(\\frac{\\partial ^2}{\\partial \\xi ^2}\\bigg)_{ij} -k^2 I_{ij}$$\n",
    "$$ M_{ij} = \\frac{1}{t} \\bigg[ \\frac{1}{4}\\bigg(\\frac{\\partial ^2}{\\partial \\xi ^2}\\bigg)_{ij} + \\frac{i\\Delta}{2}\\bigg(\\frac{\\partial}{\\partial \\xi}\\bigg)_{ij} - \\frac{k^2 t}{R_a}I_{ij}\\bigg]$$\n",
    "\n",
    "Ecrivons explicitement ces matrices: \n",
    "$$L = \\frac{R_a}{4t\\Delta ^2}\\begin{pmatrix} \n",
    "-2 & 1 & 0 & \\cdots & \\cdots & \\cdots & 0 \\\\\n",
    "1 & -2 & 1 & 0 & \\cdots & \\cdots & \\cdots \\\\\n",
    "0 & 1 & -2 & 1 & 0 &\\cdots & \\cdots \\\\\n",
    "\\vdots & \\ddots & 1 & -2 & 1 & \\ddots & \\vdots \\\\\n",
    "\\vdots & \\ddots & \\ddots & \\ddots & \\ddots & \\ddots & \\vdots \\\\\n",
    "\\vdots & \\ddots & \\ddots & 0 & 1 & -2 & 1 \\\\\n",
    "0 & \\cdots & \\cdots & \\cdots & 0 & 1 & -2\n",
    "\\end{pmatrix} - k^2\\begin{pmatrix}\n",
    "1 & 0 & \\cdots & \\cdots & \\cdots & \\cdots & 0 \\\\\n",
    "0 & 1 & 0 & \\cdots & \\cdots & \\cdots & \\vdots \\\\\n",
    "\\vdots & \\ddots & \\ddots & \\ddots & \\ddots & \\ddots & \\vdots \\\\\n",
    "\\vdots & \\ddots & \\ddots & \\ddots & \\ddots & \\ddots & \\vdots \\\\\n",
    "\\vdots & \\ddots & \\ddots & \\ddots & \\ddots & \\ddots & \\vdots \\\\\n",
    "\\vdots & \\ddots & \\ddots & \\ddots & \\ddots & \\ddots & \\vdots \\\\\n",
    "0 & \\cdots & \\cdots & \\cdots & \\cdots & \\cdots & 1 \\\\\n",
    "\\end{pmatrix}$$\n",
    "$$ M = \\frac{1}{4t \\Delta^2}\\begin{pmatrix} \n",
    "-2 & 1 & 0 & \\cdots & \\cdots & \\cdots & 0 \\\\\n",
    "1 & -2 & 1 & 0 & \\cdots & \\cdots & \\cdots \\\\\n",
    "0 & 1 & -2 & 1 & 0 &\\cdots & \\cdots \\\\\n",
    "\\vdots & \\ddots & 1 & -2 & 1 & \\ddots & \\vdots \\\\\n",
    "\\vdots & \\ddots & \\ddots & \\ddots & \\ddots & \\ddots & \\vdots \\\\\n",
    "\\vdots & \\ddots & \\ddots & 0 & 1 & -2 & 1 \\\\\n",
    "0 & \\cdots & \\cdots & \\cdots & 0 & 1 & -2\n",
    "\\end{pmatrix} + \\frac{1}{4t}\\begin{pmatrix} \n",
    "0 & \\frac{1}{2} & 0 & \\cdots & \\cdots & \\cdots & 0 \\\\\n",
    "\\frac{-2}{2} & 0 & \\frac{2}{2} & 0 & \\cdots & \\cdots & \\cdots \\\\\n",
    "0 & \\frac{-3}{2} & 0 & \\frac{3}{2} & 0 &\\cdots & \\cdots \\\\\n",
    "\\vdots & \\ddots & \\frac{-4}{2} & 0 & \\frac{4}{2} & \\ddots & \\vdots \\\\\n",
    "\\vdots & \\ddots & \\ddots & \\ddots & \\ddots & \\ddots & \\vdots \\\\\n",
    "\\vdots & \\ddots & \\ddots & 0 & \\frac{-99}{2} & 0 & \\frac{99}{2} \\\\\n",
    "0 & \\cdots & \\cdots & \\cdots & 0 & \\frac{-100}{2} & 0\n",
    "\\end{pmatrix} - \\frac{k^2 }{R_a}\\begin{pmatrix}\n",
    "1 & 0 & \\cdots & \\cdots & \\cdots & \\cdots & 0 \\\\\n",
    "0 & 1 & 0 & \\cdots & \\cdots & \\cdots & \\vdots \\\\\n",
    "\\vdots & \\ddots & \\ddots & \\ddots & \\ddots & \\ddots & \\vdots \\\\\n",
    "\\vdots & \\ddots & \\ddots & \\ddots & \\ddots & \\ddots & \\vdots \\\\\n",
    "\\vdots & \\ddots & \\ddots & \\ddots & \\ddots & \\ddots & \\vdots \\\\\n",
    "\\vdots & \\ddots & \\ddots & \\ddots & \\ddots & \\ddots & \\vdots \\\\\n",
    "0 & \\cdots & \\cdots & \\cdots & \\cdots & \\cdots & 1 \\\\\n",
    "\\end{pmatrix}$$\n",
    "\n",
    "*Remarque:* on peut réécrire $M$ en fonction de $L$ comme suit: \n",
    "$$ R_a M_{ij} = L_{ij} + \\frac{iR_a}{4t}\\bigg(\\frac{\\partial}{\\partial \\xi}\\bigg)_{ij}$$\n",
    "\n",
    "**Résolution de la question n°3:**\n",
    "\n",
    "On cherche à savoir si la fonction $f(\\xi)$ définie par: $$ f(\\xi)= e^{-\\xi ^2}h(\\xi)$$ est fonction propre de l'opérateur $H$ défini par: \n",
    "$$H= \\frac{1}{4}\\frac{\\partial ^2}{\\partial \\xi ^2} + \\frac{\\xi}{2}\\frac{\\partial}{\\partial \\xi}$$  \n",
    "Où $h(\\xi)$ est la solution à l'équation d'Hermite donnée par: $h''(\\xi) - 2\\xi h'(\\xi) = -2\\lambda h(\\xi)$\n",
    "\n",
    "Regardons l'action de $H$ sur $f$: \n",
    "\n",
    "$\\begin{split}\n",
    "Hf(\\xi) & =  \\frac{1}{4}\\frac{\\partial^2{f}}{\\partial{\\xi^2}} + \\frac{\\xi}{2}\\frac{\\partial{f}}{\\partial{\\xi}} \\\\\n",
    "& = \\frac{1}{4}\\frac{\\partial^2\\big({e^{-\\xi^2}}h(\\xi)\\big)}{\\partial{\\xi^2}} + \\frac{\\xi}{2}\\frac{\\partial{\\big(e^{-\\xi^2}}h(\\xi)\\big)}{\\partial\\xi}= \\frac{1}{4}\\frac{\\partial{\\big(-2\\xi e^{-\\xi^2}h(\\xi) + e^{-\\xi^2}h'(\\xi)\\big)}}{\\partial{\\xi}} + \\frac{\\xi}{2}\\big(-2\\xi e^{-\\xi^2}h(\\xi)+e^{-\\xi^2}h'(\\xi)\\big) \\\\\n",
    "& = \\frac{1}{4}\\bigg[(-2e^{-\\xi^2} + 4\\xi^2e^{-\\xi^2})h(\\xi)-2\\xi e^{-\\xi^2}h'(\\xi) - 2\\xi e^{-\\xi^2}h'(\\xi) + e^{-\\xi^2}h''(\\xi)] + \\frac{\\xi}{2}[-2\\xi e^{-\\xi^2}h(\\xi) + e^{-\\xi^2}h'(\\xi)\\bigg] \\\\\n",
    "& = e^{-\\xi^2}\\bigg[-\\frac{1}{2}h(\\xi) + \\xi^2 h(\\xi) - \\frac{1}{2}\\xi h'(\\xi) - \\frac{1}{2}\\xi h'(\\xi) + \\frac{1}{4}h''(\\xi) - \\xi^2 h(\\xi) + \\frac{1}{2}\\xi h'(\\xi) \\bigg] \\\\\n",
    "& = -\\frac{1}{2}e^{-\\xi^2}\\big[h(\\xi) + \\xi h'(\\xi) - \\frac{1}{2}h''(\\xi)\\big]\n",
    "\\end{split}$\n",
    "\n",
    "Il reste alors à trouver les solutions de l'équation aux valeurs propres suivante: \n",
    "$$Hf(\\xi) = -\\frac{1}{2}e^{-\\xi^2}h(\\xi)(1+\\lambda) = -\\frac{1}{2}(1+\\lambda)f(\\xi)$$  \n",
    "Donc, $\\alpha = -\\frac{1}{2}(\\lambda+1)$ \n",
    "\n",
    "Par la condition initiale $f(\\xi=\\infty)=0$ , $\\lambda$ doit être un entier strictement positif.  \n",
    "Par la condition initiale $f(\\xi=0)=0$, $\\lambda$ doit être en plus impair, car seul les polynômes de Hermite d'indice impaire s'annulent en zéro.\n",
    "\n",
    "Les valeurs propres admissibles sont donc les entiers négatifs non-nuls $\\alpha$ \n",
    "\n",
    "En prenant les cinq premières valeurs de $\\lambda$, on a:\n",
    "\n",
    "$\\begin{align*}\n",
    "\\lambda=1 => \\alpha=-1 \\\\\n",
    "\\lambda=3 => \\alpha=-2 \\\\\n",
    "\\lambda=5 => \\alpha=-3 \\\\\n",
    "\\lambda=7 => \\alpha=-4 \\\\\n",
    "\\lambda=9 => \\alpha=-5\n",
    "\\end{align*}$\n",
    "\n",
    "### Conclusion\n",
    "On sait maintenant comment devrait se comporter la résolution de manière numérique. Précisons toute fois, qu'il s'agira d'une approximation et non d'une résolution exacte. Si on regarde de manière plus concrète, on a le système d'équations donné par (1) et (2) qui se réécrit comme: \n",
    "$$L w(\\xi,t) = -k^2 c(\\xi,t)$$\n",
    "$$ \\frac{\\partial c(\\xi, t)}{\\partial t} - M c(\\xi,t) = \\sqrt{\\frac{R_a}{\\pi t}} e^{- \\xi ^2} w(\\xi,t)$$\n",
    "C'est sur cette base que nous allons résoudre de manière numérique le problème.\n"
   ]
  },
  {
   "cell_type": "markdown",
   "metadata": {
    "collapsed": true
   },
   "source": [
    "## III. Résolution Numérique\n",
    "\n",
    "Durant cette partie, nous allons d'abord vérifier les deux premières questions de manière numérique en approximant les valeurs obtenues pour l'opérateur $H$. Puis nous allons, à l'aide de la méthode RK4, résoudre les équations simplifiées écrites ci-dessus grâce au changement de variable effectué à la question 1. "
   ]
  },
  {
   "cell_type": "markdown",
   "metadata": {},
   "source": [
    "**Résolution de la question n°4:**"
   ]
  },
  {
   "cell_type": "code",
   "execution_count": 1,
   "metadata": {
    "collapsed": true
   },
   "outputs": [],
   "source": [
    "import numpy as np"
   ]
  },
  {
   "cell_type": "markdown",
   "metadata": {},
   "source": [
    "On sait que la discrétisation s'effectue sur une grille uniforme: $\\xi_m = m\\Delta$ avec $m = 0, 1, ... , 100$  \n",
    "La discrétisation va donc apparaître à chaque ligne, itérée d'une unité. Il nous faut alors implémenter la matrice $\\frac{m}{2}\\frac{\\partial}{\\partial{\\xi}}$ de cette façon:"
   ]
  },
  {
   "cell_type": "code",
   "execution_count": 32,
   "metadata": {
    "collapsed": true
   },
   "outputs": [],
   "source": [
    "def dérivée_première(N):\n",
    "    matrice = np.zeros((N-2,N-2))\n",
    "    for i in range(0,N-2):\n",
    "        if i==0:\n",
    "            matrice[i][0]=0\n",
    "            matrice[i][1]=1/2\n",
    "        elif i==N-3:\n",
    "            matrice[i][N-3]=0\n",
    "            matrice[i][N-4]=-1/2*(i+1)\n",
    "        else:\n",
    "            matrice[i][i-1]=-1/2*(i+1)\n",
    "            matrice[i][i+1]=1/2*(i+1)\n",
    "    return matrice"
   ]
  },
  {
   "cell_type": "code",
   "execution_count": 51,
   "metadata": {
    "collapsed": false
   },
   "outputs": [
    {
     "name": "stdout",
     "output_type": "stream",
     "text": [
      "[[  0.    0.5   0.  ...   0.    0.    0. ]\n",
      " [ -1.    0.    1.  ...   0.    0.    0. ]\n",
      " [  0.   -1.5   0.  ...   0.    0.    0. ]\n",
      " ...\n",
      " [  0.    0.    0.  ...   0.   48.5   0. ]\n",
      " [  0.    0.    0.  ... -49.    0.   49. ]\n",
      " [  0.    0.    0.  ...   0.  -49.5   0. ]]\n"
     ]
    }
   ],
   "source": [
    "print(dérivée_première(101))"
   ]
  },
  {
   "cell_type": "markdown",
   "metadata": {},
   "source": [
    "Implémentons maintenant la dérivée seconde de façon classique cette fois-ci:"
   ]
  },
  {
   "cell_type": "code",
   "execution_count": 34,
   "metadata": {
    "collapsed": true
   },
   "outputs": [],
   "source": [
    "def dérivée_seconde(N):\n",
    "    matrice = np.zeros((N-2,N-2))\n",
    "    for i in range(0,N-2):\n",
    "        if i==0:\n",
    "            matrice[i][0]=-2\n",
    "            matrice[i][1]=1\n",
    "            matrice[i][2]=0\n",
    "        elif i==N-3:\n",
    "            matrice[i][N-3]=-2\n",
    "            matrice[i][N-4]=1\n",
    "            matrice[i][N-5]=0\n",
    "        else:\n",
    "            matrice[i][i]=-2\n",
    "            matrice[i][i-1]=1\n",
    "            matrice[i][i+1]=1\n",
    "    return matrice"
   ]
  },
  {
   "cell_type": "code",
   "execution_count": 52,
   "metadata": {
    "collapsed": false
   },
   "outputs": [
    {
     "name": "stdout",
     "output_type": "stream",
     "text": [
      "[[-2.  1.  0. ...  0.  0.  0.]\n",
      " [ 1. -2.  1. ...  0.  0.  0.]\n",
      " [ 0.  1. -2. ...  0.  0.  0.]\n",
      " ...\n",
      " [ 0.  0.  0. ... -2.  1.  0.]\n",
      " [ 0.  0.  0. ...  1. -2.  1.]\n",
      " [ 0.  0.  0. ...  0.  1. -2.]]\n"
     ]
    }
   ],
   "source": [
    "print(dérivée_seconde(101))"
   ]
  },
  {
   "cell_type": "markdown",
   "metadata": {},
   "source": [
    "Il est maintenant temps de construire numériquement l'opérateur $H$"
   ]
  },
  {
   "cell_type": "code",
   "execution_count": 11,
   "metadata": {
    "collapsed": true
   },
   "outputs": [],
   "source": [
    "# Paramètre delta\n",
    "l = 5\n",
    "N = 101\n",
    "delta = l/(N-1)"
   ]
  },
  {
   "cell_type": "code",
   "execution_count": 26,
   "metadata": {
    "collapsed": false
   },
   "outputs": [
    {
     "name": "stdout",
     "output_type": "stream",
     "text": [
      "Forme matricielle de l'opérateur H :\n",
      "\n",
      "[[-200.    100.25    0.   ...    0.      0.      0.  ]\n",
      " [  99.5  -200.    100.5  ...    0.      0.      0.  ]\n",
      " [   0.     99.25 -200.   ...    0.      0.      0.  ]\n",
      " ...\n",
      " [   0.      0.      0.   ... -200.    124.25    0.  ]\n",
      " [   0.      0.      0.   ...   75.5  -200.    124.5 ]\n",
      " [   0.      0.      0.   ...    0.     75.25 -200.  ]]\n"
     ]
    }
   ],
   "source": [
    "H = (1/(4*delta**2))*dérivée_seconde(N)+(1/2*dérivée_première(N))\n",
    "print(\"Forme matricielle de l'opérateur H :\\n\")\n",
    "print(H)"
   ]
  },
  {
   "cell_type": "markdown",
   "metadata": {},
   "source": [
    "L'objectif étant de calculer les valeurs propres de $H$, nous utiliserons la méthode $linalg.eig$ de la librairie numpy qui prend une matrice carrée comme paramètre et retourne un tuple contenant d'une part les valeurs propres de l'opérateur, et d'autre part la matrice de ses vecteurs propres."
   ]
  },
  {
   "cell_type": "code",
   "execution_count": 25,
   "metadata": {
    "collapsed": false
   },
   "outputs": [
    {
     "name": "stdout",
     "output_type": "stream",
     "text": [
      "Les 5 plus grandes valeurs propres de l'opérateur H :\n",
      "\n",
      "-1.0000000013658472\n",
      "-2.00000045898609\n",
      "-3.0000377699672205\n",
      "-4.001153174304798\n",
      "-5.0150158495852395\n"
     ]
    }
   ],
   "source": [
    "valeurs_propres = np.linalg.eig(H)[0]\n",
    "print(\"Les 5 plus grandes valeurs propres de l'opérateur H :\\n\")\n",
    "for i in range(5):                          # sorted() trie les valeurs dans l'ordre décroissant mais comme on\n",
    "    print(sorted(valeurs_propres)[::-1][i]) # sait qu'elles sont négatives, on prendra les dernières de la liste."
   ]
  },
  {
   "cell_type": "markdown",
   "metadata": {},
   "source": [
    "Elles concordent bien avec les valeurs propres calculées à la question 3 !"
   ]
  },
  {
   "cell_type": "markdown",
   "metadata": {},
   "source": [
    " **Résolution de la question n°5:**\n",
    "\n",
    "Commençons par implémenter les outils et la fonction Rk4 comme utilisée dans le premier projet. \n"
   ]
  },
  {
   "cell_type": "code",
   "execution_count": 17,
   "metadata": {
    "collapsed": true
   },
   "outputs": [],
   "source": [
    "import math\n",
    "from matplotlib import pyplot as plt\n",
    "from matplotlib import animation\n",
    "%matplotlib inline\n",
    "from IPython.display import HTML\n",
    "\n",
    "def rk4(f,f_0,h,ini,fin):\n",
    "    N = math.ceil((fin-ini)/h) \n",
    "    y = np.zeros((N,99))\n",
    "    t = np.zeros((N,1)) #On met une seconde matrice comme l'équation dépend de deux variables\n",
    "    y[0]= f_0           #Conditions initiales\n",
    "    t[0]= ini\n",
    "    \n",
    "    for n in range(N-1): #Implémentation de l'ordre de rk\n",
    "        k1 = h * f(y[n],t[n]) \n",
    "        k2 = h * f(y[n] + k1/2, t[n] + h/2)\n",
    "        k3 = h * f(y[n] + k2/2,t[n] + h/2)\n",
    "        k4 = h * f(y[n] + k3,t[n] + h) #On suit étape par étape la construction de la suite ki définie par la méthode rk\n",
    "        y[n+1] = y[n] + (k1 + 2*k2 + 2*k3 + k4)/6\n",
    "        t[n+1] = t[n] + h  \n",
    "    return y"
   ]
  },
  {
   "cell_type": "markdown",
   "metadata": {
    "collapsed": true
   },
   "source": [
    "Ensuite, réécrivons le système d'équations pour déterminer une équation uniquement en $c(\\xi,t)$, on a :\n",
    "$$ w(\\xi,t) = -k^2 L^{-1} c(\\xi,t)$$\n",
    "$$c'(\\xi,t) = \\bigg(-k^2\\sqrt{\\frac{R_a}{\\pi t}}e^{-\\xi ^2}L^{-1} - M \\bigg) c(\\xi,t)$$\n",
    "Maintenant, on peut definir la seconde équation de manière numérique et en prenant les conditions données dans la question."
   ]
  },
  {
   "cell_type": "code",
   "execution_count": 27,
   "metadata": {
    "collapsed": true
   },
   "outputs": [],
   "source": [
    "# Conditions\n",
    "Ra = 500\n",
    "k = 0.1\n",
    "c_i = np.load(\"init_cond_c.npy\")"
   ]
  },
  {
   "cell_type": "markdown",
   "metadata": {},
   "source": [
    "Définition de la fonction $c(\\xi,t)$"
   ]
  },
  {
   "cell_type": "code",
   "execution_count": 62,
   "metadata": {
    "collapsed": false,
    "scrolled": true
   },
   "outputs": [
    {
     "name": "stdout",
     "output_type": "stream",
     "text": [
      "[[ 0.32322026  0.57278405  0.40414506 ...  0.3797694  -0.46983868\n",
      "   0.74341004]\n",
      " [ 0.32331024  0.57290878  0.4040288  ...  0.37715913 -0.4658468\n",
      "   0.74968681]\n",
      " [ 0.32340016  0.5730334   0.40391249 ...  0.37453336 -0.46174932\n",
      "   0.75590945]\n",
      " ...\n",
      " [ 0.64551671  0.87692589 -0.43419468 ...  4.85409972 -1.40642007\n",
      "   2.68011407]\n",
      " [ 0.64553803  0.87693747 -0.43426266 ...  4.85219549 -1.40934035\n",
      "   2.68202605]\n",
      " [ 0.64555935  0.87694904 -0.43433064 ...  4.85028884 -1.4122558\n",
      "   2.68394162]]\n",
      "9000\n",
      "99\n"
     ]
    }
   ],
   "source": [
    "def f(y,t): \n",
    "    L = (Ra/(4*t*(delta**2)))*dérivée_seconde(101) -(k**2) * np.identity(99)\n",
    "    M = (1/t) * ((1/4)*dérivée_seconde(101) - (1/4)*dérivée_première(101) - ((k**2) * t)/Ra*np.identity(99))\n",
    "    L_inv = np.linalg.inv(L) # calcule la matrice inverse de l'opérateur L\n",
    "    return np.dot((-(k**2) * np.sqrt(Ra/(np.pi*t)) * np.dot(np.exp(-(np.linspace(0,l,N)[1:-1])**2),L_inv) - M),y)\n",
    "data = rk4(f,c_i,10**(-8),10**(-5),10**(-4))\n",
    "print (data)"
   ]
  },
  {
   "cell_type": "markdown",
   "metadata": {
    "collapsed": true
   },
   "source": [
    "Plotons le résultat"
   ]
  },
  {
   "cell_type": "code",
   "execution_count": 66,
   "metadata": {
    "collapsed": true
   },
   "outputs": [],
   "source": [
    "# Set parameters.\n",
    "Lx = 10  # length of the plate in the x direction\n",
    "Ly = 10  # length of the plate in the y direction\n",
    "nx = 99  # number of points in the x direction\n",
    "ny = 9000 # number of points in the y direction\n",
    "x = np.linspace(0.0, Lx, num=nx)\n",
    "y = np.linspace(0.0, Ly, num=ny)"
   ]
  },
  {
   "cell_type": "code",
   "execution_count": 67,
   "metadata": {
    "collapsed": false
   },
   "outputs": [
    {
     "data": {
      "image/png": "[encoded data removed]",
      "text/plain": [
       "<Figure size 576x360 with 2 Axes>"
      ]
     },
     "metadata": {
      "needs_background": "light"
     },
     "output_type": "display_data"
    }
   ],
   "source": [
    "from matplotlib import pyplot\n",
    "%matplotlib inline\n",
    "# Set the font family and size to use for Matplotlib figures.\n",
    "pyplot.rcParams['font.family'] = 'serif'\n",
    "pyplot.rcParams['font.size'] = 16\n",
    "# Plot the filled contour of the temperature.\n",
    "pyplot.figure(figsize=(8.0, 5.0))\n",
    "pyplot.xlabel('x [m]')\n",
    "pyplot.ylabel('y [m]')\n",
    "levels = np.linspace(20.0, 100.0, num=51)\n",
    "contf = pyplot.contourf(x, y, data, levels=levels)\n",
    "cbar = pyplot.colorbar(contf)\n",
    "cbar.set_label('Temperature [C]')\n",
    "pyplot.axis('scaled', adjustable='box');"
   ]
  },
  {
   "cell_type": "markdown",
   "metadata": {},
   "source": [
    "Malheureusement avec le MOOC et ce qu'on a cherché sur internet, on a pas su mettre les données sur un graphe. Néanmoins on peut voir que les données numériques concordent parfaitement avec la résolution analytique. De plus, il nous suffit juste de calculer $w(\\xi,t)$ pour déterminer la vitesse d'écoulement dans un milieu poreux."
   ]
  },
  {
   "cell_type": "code",
   "execution_count": null,
   "metadata": {
    "collapsed": true
   },
   "outputs": [],
   "source": []
  }
 ],
 "metadata": {
  "anaconda-cloud": {},
  "kernelspec": {
   "display_name": "Python [default]",
   "language": "python",
   "name": "python3"
  },
  "language_info": {
   "codemirror_mode": {
    "name": "ipython",
    "version": 3
   },
   "file_extension": ".py",
   "mimetype": "text/x-python",
   "name": "python",
   "nbconvert_exporter": "python",
   "pygments_lexer": "ipython3",
   "version": "3.5.2"
  }
 },
 "nbformat": 4,
 "nbformat_minor": 1
}
