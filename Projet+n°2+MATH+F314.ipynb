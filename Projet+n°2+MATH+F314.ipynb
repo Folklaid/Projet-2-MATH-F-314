{
 "cells": [
  {
   "cell_type": "markdown",
   "metadata": {},
   "source": [
    " # MATH F314 Projet n°2: Chimie des milieux poreux\n",
    " ### Broissin Jérémy, Houyoux Guillaume\n",
    " \n",
    " ## I.Introduction\n",
    " \n",
    " Ce projet consiste à déterminer la vitesse d'écoulement incompressible d'un milieu poreux. On sait que cette vitesse suit l'équation (ou loi) de Darcy: $$\\overrightarrow{u}= \\frac{-K}{\\mu}\\bigg(\\overrightarrow{\\nabla}{P} - \\rho \\overrightarrow{g}\\bigg)$$\n",
    " Où $\\overrightarrow{g}$ est dirigé selon l'axe z, K et $\\mu$ sont des constantes, respectivement pour la perméabilité et la viscosité du milieu. \n",
    " De plus, si un soluté est présent, la vitesse $\\overrightarrow{u}$ suit l'équation d'advection-diffusion: $$\\Phi\\frac{\\partial C}{\\partial t}= -\\overrightarrow{u}\\overrightarrow{\\nabla}{C} + \\Phi D \\overrightarrow{\\nabla}^2{C}$$\n",
    " Avec cela, et après quelques manipulations, on arrive au système d'équation suivant:\n",
    " $$\\bigg(\\frac{\\partial ^2}{\\partial z^2} - k^2\\bigg)w(z,t) = -k^2c(z,t)$$\n",
    " $$\\frac{\\partial c(z,t)}{\\partial t} -\\frac{1}{R_a}\\bigg(\\frac{\\partial ^2}{\\partial z^2} - k^2\\bigg)c(z,t) = -\\frac{\\partial C_0}{\\partial z}w(z,t)$$\n",
    " Avec $\\frac{\\partial C_0}{\\partial z} = \\frac{2}{\\sqrt{\\pi}}\\sqrt{\\frac{R_a}{4 t}}e^{-\\big(z\\sqrt{\\frac{R_a}{4 t}}\\big)^2} $\n",
    " \n",
    " Notre but est de résoudre ce sytème d'équation, premièrement de manière purement théorique et analytiquement, puis de manière numérique. \n",
    " \n",
    " ## II.Résolution analytique\n",
    " \n",
    " **• Résolution de la question n°1:** \n",
    " \n",
    " On pose donc la variable $\\xi= z\\sqrt{\\frac{R_a}{4t}}$, il nous faut maintenant réecrire le système d'équation ci-dessus en les variables $\\xi$ et $t$. \n",
    " \n",
    " Calculons d'abord $\\frac{\\partial f(z,t)}{\\partial z}$ puis $\\frac{\\partial ^2 f(z,t)}{\\partial z^2}$: \n",
    " $$\\frac{\\partial f(z,t)}{\\partial z}= \\frac{\\partial f(\\xi,t)}{\\partial \\xi} \\frac{\\partial \\xi}{\\partial z} = \\sqrt{\\frac{R_a}{4t}} \\frac{\\partial f(\\xi,t)}{\\partial \\xi}$$\n",
    " $$\\frac{\\partial ^2 f(z,t)}{\\partial z^2} = \\frac{R_a}{4t} \\frac{\\partial ^2 f(\\xi,t)}{\\partial \\xi ^2}$$\n",
    " \n",
    " Notre première équation devient alors:\n",
    " $$\\bigg(\\frac{R_a}{4t}\\frac{\\partial ^2}{\\partial \\xi ^2} -k^2\\bigg)w(\\xi,t) = -k^2 c(\\xi,t) (1)$$\n",
    " \n",
    " Il nous manque plus qu'à calculer $\\frac{\\partial f(z,t)}{\\partial t}$ et ainsi on aura la seconde équation sous la forme recherchée: \n",
    " $$\\frac{\\partial f(z,t)}{\\partial t} = \\frac{\\partial f(\\xi,t)}{\\partial \\xi}\\frac{\\partial \\xi}{\\partial t} + \\frac{\\partial f(\\xi,t)}{\\partial t} = \\sqrt{\\frac{R_a}{4t}} \\frac{\\partial f(\\xi,t)}{\\partial \\xi} + \\frac{\\partial f(\\xi,t)}{\\partial t} $$\n",
    " \n",
    " Notre seconde équation s'écrit alors:\n",
    " $$\\frac{\\partial c(\\xi,t)}{\\partial t} -\\frac{1}{t} \\bigg(\\frac{1}{4}\\frac{\\partial ^2}{\\partial \\xi ^2} - \\frac{\\xi}{2}\\frac{\\partial}{\\partial \\xi} - \\frac{k^2 t}{R_a}\\bigg) c(\\xi,t) = \\sqrt{\\frac{R_a}{\\pi t}}e^{-\\xi ^2}w(\\xi,t) (2)$$\n",
    " \n",
    " *Résumé:*\n",
    " On a donc su réexprimer notre système d'équation initial en terme des nouvelles variables. On utilisera donc le nouveau système d'équation déféni par (1) et (2) pour résoudre de manière analytique et numérique notre problème posé. \n",
    " \n",
    " **• Résolution de la question n°2:**\n",
    " \n",
    " Pour créer les opérateurs, nous utiliserons le lien suivant :https://en.wikipedia.org/wiki/Finite_difference_coefficient?fbclid=IwAR3ZIxsqk_B6J76bNSUibbln4wJ4ygC6oty4cNNWHE7oxa6VKwIhzbTRLfc\n",
    " \n",
    " Afin de trouver $M_{ij}$ et $L_{ij}$, on va d'abord calculer grâce au lien ci-dessus, les matrices correspondantes respectivement à $\\frac{\\partial}{\\partial \\xi}$ et à $\\frac{\\partial ^2}{\\partial \\xi ^2}$.\n",
    " \n",
    " Si on discrétise $\\xi$ comme $\\xi_m = m\\Delta$ avec $m = 0, 1, ... , 100$, on peut alors approximer grâce à un développement de Taylor les dérivées premières et secondes agissant sur une fonction discrétisée $u_m(\\xi_m,t)$.\n",
    " \n",
    " Regardons d'abord pour $\\frac{\\partial ^2}{\\partial \\xi ^2}$, si on développe $\\frac{\\partial ^2}{\\partial \\xi ^2}u_{i}$ avec Taylor, on a: $$\\frac{\\partial ^2}{\\partial \\xi ^2}u_{i} =\\frac{1}{\\Delta ^2}\\big(u_{i-1} - 2u_i + u_{i+1}\\big)$$\n",
    " Ceci nous donne la matrice de taille $m \\times m$ suivante: \n",
    " $$ \\frac{1}{\\Delta ^2}\\begin{pmatrix} \n",
    "-2 & 1 & 0 & \\cdots & \\cdots & \\cdots & 0 \\\\\n",
    "1 & -2 & 1 & 0 & \\cdots & \\cdots & \\cdots \\\\\n",
    "0 & 1 & -2 & 1 & 0 &\\cdots & \\cdots \\\\\n",
    "\\vdots & \\ddots & 1 & -2 & 1 & \\ddots & \\vdots \\\\\n",
    "\\vdots & \\ddots & \\ddots & \\ddots & \\ddots & \\ddots & \\vdots \\\\\n",
    "\\vdots & \\ddots & \\ddots & 0 & 1 & -2 & 1 \\\\\n",
    "0 & \\cdots & \\cdots & \\cdots & 0 & 1 & -2\n",
    "\\end{pmatrix}$$\n",
    "\n",
    "Calculons maintenant le développement de Taylor de $\\frac{\\partial}{\\partial \\xi}u_i$, on obtient: $$\\frac{\\partial}{\\partial \\xi}u_i = \\frac{1}{2\\Delta}\\bigg(\\frac{-1}{2}u_{i-1} + \\frac{1}{2}u_{i+1}\\bigg)$$\n",
    "On a donc une nouvelle matrice de taille $m \\times m$: \n",
    "$$ \\frac{1}{2\\Delta }\\begin{pmatrix} \n",
    "0 & \\frac{1}{2} & 0 & \\cdots & \\cdots & \\cdots & 0 \\\\\n",
    "\\frac{-1}{2} & 0 & \\frac{1}{2} & 0 & \\cdots & \\cdots & \\cdots \\\\\n",
    "0 & \\frac{-1}{2} & 0 & \\frac{1}{2} & 0 &\\cdots & \\cdots \\\\\n",
    "\\vdots & \\ddots & \\frac{-1}{2} & 0 & \\frac{1}{2} & \\ddots & \\vdots \\\\\n",
    "\\vdots & \\ddots & \\ddots & \\ddots & \\ddots & \\ddots & \\vdots \\\\\n",
    "\\vdots & \\ddots & \\ddots & 0 & \\frac{-1}{2} & 0 & \\frac{1}{2} \\\\\n",
    "0 & \\cdots & \\cdots & \\cdots & 0 & \\frac{-1}{2} & 0\n",
    "\\end{pmatrix}$$\n",
    "\n",
    "On veut calculer $L_{ij}$ et $M_{ij}$ défini comme: \n",
    "$$ L_{ij} =  \\frac{R_a}{4t} \\bigg(\\frac{\\partial ^2}{\\partial \\xi ^2}\\bigg)_{ij} -k^2 I_{ij}$$\n",
    "$$ M_{ij} = \\frac{1}{t} \\bigg[ \\frac{1}{4}\\bigg(\\frac{\\partial ^2}{\\partial \\xi ^2}\\bigg)_{ij} + \\frac{i\\Delta}{2}\\bigg(\\frac{\\partial}{\\partial \\xi}\\bigg)_{ij} - \\frac{k^2 t}{R_a}I_{ij}\\bigg]$$\n",
    "\n",
    "Ecrivons ces matrices de manière plus explicite: \n",
    "$$L = \\frac{R_a}{4t\\Delta ^2}\\begin{pmatrix} \n",
    "-2 & 1 & 0 & \\cdots & \\cdots & \\cdots & 0 \\\\\n",
    "1 & -2 & 1 & 0 & \\cdots & \\cdots & \\cdots \\\\\n",
    "0 & 1 & -2 & 1 & 0 &\\cdots & \\cdots \\\\\n",
    "\\vdots & \\ddots & 1 & -2 & 1 & \\ddots & \\vdots \\\\\n",
    "\\vdots & \\ddots & \\ddots & \\ddots & \\ddots & \\ddots & \\vdots \\\\\n",
    "\\vdots & \\ddots & \\ddots & 0 & 1 & -2 & 1 \\\\\n",
    "0 & \\cdots & \\cdots & \\cdots & 0 & 1 & -2\n",
    "\\end{pmatrix} - k^2\\begin{pmatrix}\n",
    "1 & 0 & \\cdots & \\cdots & \\cdots & \\cdots & 0 \\\\\n",
    "0 & 1 & 0 & \\cdots & \\cdots & \\cdots & \\vdots \\\\\n",
    "\\vdots & \\ddots & \\ddots & \\ddots & \\ddots & \\ddots & \\vdots \\\\\n",
    "\\vdots & \\ddots & \\ddots & \\ddots & \\ddots & \\ddots & \\vdots \\\\\n",
    "\\vdots & \\ddots & \\ddots & \\ddots & \\ddots & \\ddots & \\vdots \\\\\n",
    "\\vdots & \\ddots & \\ddots & \\ddots & \\ddots & \\ddots & \\vdots \\\\\n",
    "0 & \\cdots & \\cdots & \\cdots & \\cdots & \\cdots & 1 \\\\\n",
    "\\end{pmatrix}$$\n",
    "$$ M = \\frac{1}{4t \\Delta^2}\\begin{pmatrix} \n",
    "-2 & 1 & 0 & \\cdots & \\cdots & \\cdots & 0 \\\\\n",
    "1 & -2 & 1 & 0 & \\cdots & \\cdots & \\cdots \\\\\n",
    "0 & 1 & -2 & 1 & 0 &\\cdots & \\cdots \\\\\n",
    "\\vdots & \\ddots & 1 & -2 & 1 & \\ddots & \\vdots \\\\\n",
    "\\vdots & \\ddots & \\ddots & \\ddots & \\ddots & \\ddots & \\vdots \\\\\n",
    "\\vdots & \\ddots & \\ddots & 0 & 1 & -2 & 1 \\\\\n",
    "0 & \\cdots & \\cdots & \\cdots & 0 & 1 & -2\n",
    "\\end{pmatrix} + \\frac{1}{4t}\\begin{pmatrix} \n",
    "0 & \\frac{1}{2} & 0 & \\cdots & \\cdots & \\cdots & 0 \\\\\n",
    "\\frac{-2}{2} & 0 & \\frac{2}{2} & 0 & \\cdots & \\cdots & \\cdots \\\\\n",
    "0 & \\frac{-3}{2} & 0 & \\frac{3}{2} & 0 &\\cdots & \\cdots \\\\\n",
    "\\vdots & \\ddots & \\frac{-4}{2} & 0 & \\frac{4}{2} & \\ddots & \\vdots \\\\\n",
    "\\vdots & \\ddots & \\ddots & \\ddots & \\ddots & \\ddots & \\vdots \\\\\n",
    "\\vdots & \\ddots & \\ddots & 0 & \\frac{-99}{2} & 0 & \\frac{99}{2} \\\\\n",
    "0 & \\cdots & \\cdots & \\cdots & 0 & \\frac{-100}{2} & 0\n",
    "\\end{pmatrix} - \\frac{k^2 }{R_a}\\begin{pmatrix}\n",
    "1 & 0 & \\cdots & \\cdots & \\cdots & \\cdots & 0 \\\\\n",
    "0 & 1 & 0 & \\cdots & \\cdots & \\cdots & \\vdots \\\\\n",
    "\\vdots & \\ddots & \\ddots & \\ddots & \\ddots & \\ddots & \\vdots \\\\\n",
    "\\vdots & \\ddots & \\ddots & \\ddots & \\ddots & \\ddots & \\vdots \\\\\n",
    "\\vdots & \\ddots & \\ddots & \\ddots & \\ddots & \\ddots & \\vdots \\\\\n",
    "\\vdots & \\ddots & \\ddots & \\ddots & \\ddots & \\ddots & \\vdots \\\\\n",
    "0 & \\cdots & \\cdots & \\cdots & \\cdots & \\cdots & 1 \\\\\n",
    "\\end{pmatrix}$$\n",
    "\n",
    "*Remarque:* on peut réecrire M en fonction de L comme il suit: \n",
    "$$ R_a M_{ij} = L_{ij} + \\frac{iR_a}{4t}\\bigg(\\frac{\\partial}{\\partial \\xi}\\bigg)_{ij}$$\n",
    "\n",
    "**Résolution de la question n°3:**\n",
    "\n",
    "On cherche à savoir si l'opérateur $H$ défini par: \n",
    "$$H= \\frac{1}{4}\\frac{\\partial ^2}{\\partial \\xi ^2} + \\frac{\\xi}{2}\\frac{\\partial}{\\partial \\xi}$$ \n",
    "A comme valeur propre $\\alpha$ lorsqu'il agit sur la fonction $f(\\xi)$ défini par: $$ f(\\xi)= e^{\\xi ^2}h(\\xi)$$ \n",
    "Où $h(\\xi)$ est la solution à l'équation d'Hermite donnée par: $h''(\\xi) - 2\\xi h'(\\xi) = -2\\lambda h(\\xi)$\n",
    "\n",
    "Regardons l'action de $H$ sur $f$: \n",
    "\n",
    "$\\begin{split}\n",
    "Hf(\\xi) & =  \\frac{1}{4}\\frac{\\partial^2{f}}{\\partial{\\xi^2}} + \\frac{\\xi}{2}\\frac{\\partial{f}}{\\partial{\\xi}} \\\\\n",
    "& = \\frac{1}{4}\\frac{\\partial^2\\big({e^{-\\xi^2}}h(\\xi)\\big)}{\\partial{\\xi^2}} + \\frac{\\xi}{2}\\frac{\\partial{\\big(e^{-\\xi^2}}h(\\xi)\\big)}{\\partial\\xi}= \\frac{1}{4}\\frac{\\partial{\\big(-2\\xi e^{-\\xi^2}h(\\xi) + e^{-\\xi^2}h'(\\xi)\\big)}}{\\partial{\\xi}} + \\frac{\\xi}{2}\\big(-2\\xi e^{-\\xi^2}h(\\xi)+e^{-\\xi^2}h'(\\xi)\\big) \\\\\n",
    "& = \\frac{1}{4}\\bigg[(-2e^{-\\xi^2} + 4\\xi^2e^{-\\xi^2})h(\\xi)-2\\xi e^{-\\xi^2}h'(\\xi) - 2\\xi e^{-\\xi^2}h'(\\xi) + e^{-\\xi^2}h''(\\xi)] + \\frac{\\xi}{2}[-2\\xi e^{-\\xi^2}h(\\xi) + e^{-\\xi^2}h'(\\xi)\\bigg] \\\\\n",
    "& = e^{-\\xi^2}\\bigg[-\\frac{1}{2}h(\\xi) + \\xi^2 h(\\xi) - \\frac{1}{2}\\xi h'(\\xi) - \\frac{1}{2}\\xi h'(\\xi) + \\frac{1}{4}h''(\\xi) - \\xi^2 h(\\xi) + \\frac{1}{2}\\xi h'(\\xi) \\bigg] \\\\\n",
    "& = -\\frac{1}{2}e^{-\\xi^2}\\big[h(\\xi) + \\xi h'(\\xi) - \\frac{1}{2}h''(\\xi)\\big]\n",
    "\\end{split}$\n",
    "\n",
    "Comme on retrouve l'équation d'Hermite à la fin, on a que: \n",
    "$$Hf(\\xi) = -\\frac{1}{2}e^{-\\xi^2}h(\\xi)(1+\\lambda) = -\\frac{1}{2}(1+\\lambda)f(\\xi)$$  \n",
    "Donc: $\\alpha = -\\frac{1}{2}(\\lambda+1)$\n",
    "\n",
    "Par la condition initiale $f(\\xi=\\infty)=0$ , $\\lambda$ doit être un entier strictement positif.  \n",
    "Par la condition initiale $f(\\xi=0)=0$, $\\lambda$ doit être en plus impair, seul les polynômes de Hermite d'indice impaire s'annulent en zéro.\n",
    "\n",
    "En prenant les cinq premiers nombres entiers positifs impair, on a:\n",
    "\n",
    "$\\begin{align*}\n",
    "\\lambda=1 => \\alpha=-1 \\\\\n",
    "\\lambda=3 => \\alpha=-2 \\\\\n",
    "\\lambda=5 => \\alpha=-3 \\\\\n",
    "\\lambda=7 => \\alpha=-4 \\\\\n",
    "\\lambda=9 => \\alpha=-5\n",
    "\\end{align*}$\n",
    "\n",
    "### Conclusion\n",
    "On sait maintenant grâce à ces étapes comment devrait se comporter la résolution de manière numérique. Précisions toute fois, qu'il s'agira d'une approximation et non d'une résolution exacte. Si on regarde de manière plus concrète, avec les opérateurs crées, on a le système d'équation donné par (1) et (2) qui se réecrit comme: \n",
    "$$L w(\\xi,t) = -k^2 c(\\xi,t)$$\n",
    "$$ \\frac{\\partial c(\\xi, t)}{\\partial t} - M c(\\xi,t) = \\sqrt{\\frac{R_a}{\\pi t}} e^{- \\xi ^2} w(\\xi,t)$$\n",
    "C'est sur cette base que nous allons résoudre de manière numérique le problème.\n"
   ]
  },
  {
   "cell_type": "markdown",
   "metadata": {
    "collapsed": true
   },
   "source": [
    "## III. Résolution Numérique\n",
    "\n",
    "Durant cette partie, nous allons d'abord vérifier les deux dernières questions précédentes de manière numérique en aproximant les valeurs qu'on obitient pour H. Puis nous allons résoudre grâce à la méthode RK4 les équations simplifiées écrites ci-dessus grâce à la résolution de la question 1. \n",
    "\n",
    "** Résolution de la question n°4:**\n",
    "\n",
    "Commençons par implémenter la bibliothèque numpy. "
   ]
  },
  {
   "cell_type": "code",
   "execution_count": 11,
   "metadata": {
    "collapsed": true
   },
   "outputs": [],
   "source": [
    "import numpy as np"
   ]
  },
  {
   "cell_type": "markdown",
   "metadata": {},
   "source": [
    "Ecrivons maintenant la matrice de dérivée première, puis regardons un exemple pour une matrice $10 \\times 10$ pour voir si les valeurs concordent. "
   ]
  },
  {
   "cell_type": "code",
   "execution_count": 12,
   "metadata": {
    "collapsed": true
   },
   "outputs": [],
   "source": [
    "def dx(N):\n",
    "    matrice = np.zeros((N-2,N-2))\n",
    "    for i in range(0,N-2):\n",
    "        if i==0:\n",
    "            matrice[i][0]=0\n",
    "            matrice[i][1]=1/2\n",
    "        elif i==N-3:\n",
    "            matrice[i][N-3]=0\n",
    "            matrice[i][N-4]=-1/2*(i+1)\n",
    "        else:\n",
    "            matrice[i][i-1]=-1/2*(i+1)\n",
    "            matrice[i][i+1]=1/2*(i+1)\n",
    "    return matrice"
   ]
  },
  {
   "cell_type": "code",
   "execution_count": 13,
   "metadata": {
    "collapsed": false
   },
   "outputs": [
    {
     "name": "stdout",
     "output_type": "stream",
     "text": [
      "[[ 0.   0.5  0.   0.   0.   0.   0.   0. ]\n",
      " [-1.   0.   1.   0.   0.   0.   0.   0. ]\n",
      " [ 0.  -1.5  0.   1.5  0.   0.   0.   0. ]\n",
      " [ 0.   0.  -2.   0.   2.   0.   0.   0. ]\n",
      " [ 0.   0.   0.  -2.5  0.   2.5  0.   0. ]\n",
      " [ 0.   0.   0.   0.  -3.   0.   3.   0. ]\n",
      " [ 0.   0.   0.   0.   0.  -3.5  0.   3.5]\n",
      " [ 0.   0.   0.   0.   0.   0.  -4.   0. ]]\n"
     ]
    }
   ],
   "source": [
    "print(dx(10))"
   ]
  },
  {
   "cell_type": "markdown",
   "metadata": {},
   "source": [
    "On voit ici que les valeurs numériques concordent bien avec celle déterminée de manière théorique dans l'expression de $L$ et $M$. Regardons maintenant la matrice pour la dérivée seconde, de là reprenons un exemple et voyons si elle concorde avec celle déterminée dans la première partie. "
   ]
  },
  {
   "cell_type": "code",
   "execution_count": 14,
   "metadata": {
    "collapsed": true
   },
   "outputs": [],
   "source": [
    "def d2x(N):\n",
    "    matrice = np.zeros((N-2,N-2))\n",
    "    for i in range(0,N-2):\n",
    "        if i==0:\n",
    "            matrice[i][0]=-2\n",
    "            matrice[i][1]=1\n",
    "            matrice[i][2]=0\n",
    "        elif i==N-3:\n",
    "            matrice[i][N-3]=-2\n",
    "            matrice[i][N-4]=1\n",
    "            matrice[i][N-5]=0\n",
    "        else:\n",
    "            matrice[i][i]=-2\n",
    "            matrice[i][i-1]=1\n",
    "            matrice[i][i+1]=1\n",
    "    return matrice"
   ]
  },
  {
   "cell_type": "code",
   "execution_count": 15,
   "metadata": {
    "collapsed": false
   },
   "outputs": [
    {
     "name": "stdout",
     "output_type": "stream",
     "text": [
      "[[-2.  1.  0.  0.  0.  0.  0.  0.]\n",
      " [ 1. -2.  1.  0.  0.  0.  0.  0.]\n",
      " [ 0.  1. -2.  1.  0.  0.  0.  0.]\n",
      " [ 0.  0.  1. -2.  1.  0.  0.  0.]\n",
      " [ 0.  0.  0.  1. -2.  1.  0.  0.]\n",
      " [ 0.  0.  0.  0.  1. -2.  1.  0.]\n",
      " [ 0.  0.  0.  0.  0.  1. -2.  1.]\n",
      " [ 0.  0.  0.  0.  0.  0.  1. -2.]]\n"
     ]
    }
   ],
   "source": [
    "print(d2x(10))"
   ]
  },
  {
   "cell_type": "markdown",
   "metadata": {},
   "source": [
    "Tout est ok, on peut donc implémenter $\\Delta$ avec les valeurs de l'énoncé et calculer de manière aproximative les valeurs propres de H et voir si cela concorde avec celle déterminées dans la partie analytique. "
   ]
  },
  {
   "cell_type": "code",
   "execution_count": 16,
   "metadata": {
    "collapsed": true
   },
   "outputs": [],
   "source": [
    "# Paramètre delta\n",
    "L = 5\n",
    "N = 101\n",
    "delta = L/(N-1)"
   ]
  },
  {
   "cell_type": "code",
   "execution_count": 18,
   "metadata": {
    "collapsed": false
   },
   "outputs": [
    {
     "name": "stdout",
     "output_type": "stream",
     "text": [
      "Forme matricielle de l'opérateur H :\n",
      "\n",
      "[[-200.    100.25    0.   ...,    0.      0.      0.  ]\n",
      " [  99.5  -200.    100.5  ...,    0.      0.      0.  ]\n",
      " [   0.     99.25 -200.   ...,    0.      0.      0.  ]\n",
      " ..., \n",
      " [   0.      0.      0.   ..., -200.    124.      0.  ]\n",
      " [   0.      0.      0.   ...,   75.75 -200.    124.25]\n",
      " [   0.      0.      0.   ...,    0.     75.5  -200.  ]]\n",
      "\n",
      "Les 5 plus grandes valeurs propres sont :\n",
      "\n",
      "-1.0000000022\n",
      "-2.00000070686\n",
      "-3.00005525589\n",
      "-4.00158819383\n",
      "-5.01927829269\n"
     ]
    }
   ],
   "source": [
    "H = (1/(4*delta**2))*d2x(100)+(1/2*dx(100))\n",
    "print(\"Forme matricielle de l'opérateur H :\\n\")\n",
    "print(H)\n",
    "valeurs_propres = np.linalg.eig(H)[0]\n",
    "print('\\nLes 5 plus grandes valeurs propres sont :\\n')\n",
    "for i in range(5):            # sorted() trie les valeurs dans l'ordre décroissant mais comme on\n",
    "    print(sorted(valeurs_propres)[::-1][i]) # sait qu'elles sont négatives, on prendra les dernières de la liste."
   ]
  },
  {
   "cell_type": "markdown",
   "metadata": {},
   "source": [
    "On retrouve bien les valeurs propres déterminées lors de la partie numérique, la construction numérique de nos deux opérateurs est alors concordante avec celle donnée par résolution analytique. "
   ]
  },
  {
   "cell_type": "code",
   "execution_count": null,
   "metadata": {
    "collapsed": true
   },
   "outputs": [],
   "source": []
  }
 ],
 "metadata": {
  "anaconda-cloud": {},
  "kernelspec": {
   "display_name": "Python [default]",
   "language": "python",
   "name": "python3"
  },
  "language_info": {
   "codemirror_mode": {
    "name": "ipython",
    "version": 3
   },
   "file_extension": ".py",
   "mimetype": "text/x-python",
   "name": "python",
   "nbconvert_exporter": "python",
   "pygments_lexer": "ipython3",
   "version": "3.5.2"
  }
 },
 "nbformat": 4,
 "nbformat_minor": 1
}
